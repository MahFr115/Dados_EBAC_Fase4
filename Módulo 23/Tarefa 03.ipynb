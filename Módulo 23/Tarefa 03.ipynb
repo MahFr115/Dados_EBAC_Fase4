{
 "cells": [
  {
   "cell_type": "markdown",
   "id": "859ca19e-e55d-4cbd-b7d4-e1280fef88fa",
   "metadata": {},
   "source": [
    "# EBAC \n",
    "## Módulo 23: Combinação de modelos\n",
    "### Tarefa 03"
   ]
  },
  {
   "cell_type": "markdown",
   "id": "c6671524-408b-4756-880e-c0569875027f",
   "metadata": {},
   "source": [
    "1. Quais são os hyperparâmetros do RF?\n",
    "2. Pra que serve cada um deles?"
   ]
  },
  {
   "cell_type": "markdown",
   "id": "a5e5a7c8-08f5-4733-993c-bb90c2a7ca27",
   "metadata": {},
   "source": [
    "<table>\n",
    "    <tr>\n",
    "        <th>Hyperparâmetros</th>\n",
    "        <th>Variável</th>\n",
    "        <th>Descrições</th>\n",
    "        <th>Melhor conjunto</th>\n",
    "    </tr>\n",
    "    <tr>\n",
    "        <th>Out-of-bag</th>\n",
    "        <td>X_test, y_test</td>\n",
    "        <td>Criar uma base para teste, se conhecendo o resultado esperado dela, que não esteja dentro da base de desenolvimento e treino da árvore.</td>\n",
    "        <td></td>\n",
    "    </tr>\n",
    "    <tr>\n",
    "        <th>Qtd. de árvore</th>\n",
    "        <td>n_estimators</td>\n",
    "        <td>Número de bases de dados de desnvolvimento e árvores modeladas criadas, apartir da base de dados original.</td>\n",
    "        <td>- default: 100 <br>- comuns: 100 à 1000+</td>\n",
    "    </tr>\n",
    "    <tr>\n",
    "        <th>Extração das amostras</th>\n",
    "        <td>bootstrap</td>\n",
    "        <td>Determina se as amostras são extraídas com substituição.</td>\n",
    "        <td>- default: True </td>\n",
    "    </tr>\n",
    "    <tr>\n",
    "        <th>Qtd de features (colunas)</th>\n",
    "        <td>max_features</td>\n",
    "        <td>Otimização do número de colunas utilizadas em cada base de desenvolvimento das árvores.</td>\n",
    "        <td>- default: auto (raíz quadrada do número total da base de dados original para <strong>classificação</strong>/ um terço desse valor para <strong>regressão</strong>)<br>- comuns: para <strong>classificação</strong> se utiliza o log2, para a <strong>regressão</strong> um valor determinado de colunas.</td>\n",
    "    </tr>\n",
    "    <tr>\n",
    "        <th>Critério</th>\n",
    "        <td>criterion</td>\n",
    "        <td>Função utlizada para medir a divisão.</td>\n",
    "        <td>- default: 'gini' (para classificação)/ 'mse' (para regressão)<br>- comuns: para <strong>classificação</strong> se usa o \"entropy\" , para a <strong>regressão</strong> o \"mae\"</td>\n",
    "    </tr>\n",
    "    <tr>\n",
    "        <th>Qtd,.de elementos mínimos nas folhas</th>\n",
    "        <td>min_sample_leaf</td>\n",
    "        <td>Amostragens mínimas requeridas para caractegorizar um nó da árvore.</td>\n",
    "        <td>- default: 1<br>- comuns: 1 à 10</td>\n",
    "    </tr>\n",
    "    <tr>\n",
    "        <th>Profundidade máxima</th>\n",
    "        <td>max_depth</td>\n",
    "        <td>Profundidade máxima da árvores, quantidade de níveis de divisão do desenvolvimento da árvore.</td>\n",
    "        <td>- default: None <br>- comuns: 10 à 100</td>\n",
    "    </tr>\n",
    "    <tr>\n",
    "        <th>Qtd. de amostras para dividir um nó</th>\n",
    "        <td>min_saples_split</td>\n",
    "        <td>Número mínimo de amostragens de dvivisão entre os desenvolvimentos dos nós. </td>\n",
    "        <td>- default: 2<br>- comuns: 2 à 20 </td>\n",
    "    </tr>\n",
    "</table>"
   ]
  },
  {
   "cell_type": "code",
   "execution_count": null,
   "id": "ec006dd2-2a32-47e6-b373-3d02ac7f433f",
   "metadata": {},
   "outputs": [],
   "source": []
  }
 ],
 "metadata": {
  "kernelspec": {
   "display_name": "Python 3 (ipykernel)",
   "language": "python",
   "name": "python3"
  },
  "language_info": {
   "codemirror_mode": {
    "name": "ipython",
    "version": 3
   },
   "file_extension": ".py",
   "mimetype": "text/x-python",
   "name": "python",
   "nbconvert_exporter": "python",
   "pygments_lexer": "ipython3",
   "version": "3.12.7"
  }
 },
 "nbformat": 4,
 "nbformat_minor": 5
}
