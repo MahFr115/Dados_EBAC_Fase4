{
 "cells": [
  {
   "cell_type": "markdown",
   "metadata": {},
   "source": [
    "# Tarefa - Álgebra Linear\n",
    "\n",
    "A célula abaixo gera dados de notas de duas provas, p1 e p2, conforme em aula, mas com mais alunos.\n",
    "\n",
    "## 1. Reduzindo correlações\n",
    "\n",
    "a) Já vimos que expressar os dados através da média e diferença é uma transformação linear. Obtenha a média e a diferença através de uma multiplicação matricial, conforme visto em aula.\n",
    "\n",
    "b) Calcule a correlação entre os dados da **p1** e **p2**\n",
    "\n",
    "c) Calcule a correlação entre os dados transformados (média e diferença)\n",
    "\n",
    "d) Comente as correlações observadas."
   ]
  },
  {
   "cell_type": "code",
   "execution_count": 1,
   "metadata": {},
   "outputs": [],
   "source": [
    "import pandas as pd\n",
    "import seaborn as sns\n",
    "import numpy as np\n",
    "import matplotlib.pyplot as plt\n",
    "\n",
    "%matplotlib inline\n",
    "\n",
    "# Gerando os dados\n",
    "np.random.seed(123)\n",
    "\n",
    "p1 = np.random.random(50) *10\n",
    "p1[p1>10] = 10\n",
    "p1[p1<0] = 0\n",
    "\n",
    "p2 = p1 + np.random.normal(0,1,50)\n",
    "p2[p2>10] = 10\n",
    "p2[p2<0] = 0\n",
    "\n",
    "df = pd.DataFrame({'p1': p1, 'p2': p2})"
   ]
  },
  {
   "cell_type": "code",
   "execution_count": 2,
   "metadata": {},
   "outputs": [
    {
     "data": {
      "text/html": [
       "<div>\n",
       "<style scoped>\n",
       "    .dataframe tbody tr th:only-of-type {\n",
       "        vertical-align: middle;\n",
       "    }\n",
       "\n",
       "    .dataframe tbody tr th {\n",
       "        vertical-align: top;\n",
       "    }\n",
       "\n",
       "    .dataframe thead th {\n",
       "        text-align: right;\n",
       "    }\n",
       "</style>\n",
       "<table border=\"1\" class=\"dataframe\">\n",
       "  <thead>\n",
       "    <tr style=\"text-align: right;\">\n",
       "      <th></th>\n",
       "      <th>p1</th>\n",
       "      <th>p2</th>\n",
       "    </tr>\n",
       "  </thead>\n",
       "  <tbody>\n",
       "    <tr>\n",
       "      <th>0</th>\n",
       "      <td>6.964692</td>\n",
       "      <td>7.943428</td>\n",
       "    </tr>\n",
       "    <tr>\n",
       "      <th>1</th>\n",
       "      <td>2.861393</td>\n",
       "      <td>5.099537</td>\n",
       "    </tr>\n",
       "    <tr>\n",
       "      <th>2</th>\n",
       "      <td>2.268515</td>\n",
       "      <td>0.974429</td>\n",
       "    </tr>\n",
       "    <tr>\n",
       "      <th>3</th>\n",
       "      <td>5.513148</td>\n",
       "      <td>4.474359</td>\n",
       "    </tr>\n",
       "    <tr>\n",
       "      <th>4</th>\n",
       "      <td>7.194690</td>\n",
       "      <td>8.938402</td>\n",
       "    </tr>\n",
       "  </tbody>\n",
       "</table>\n",
       "</div>"
      ],
      "text/plain": [
       "         p1        p2\n",
       "0  6.964692  7.943428\n",
       "1  2.861393  5.099537\n",
       "2  2.268515  0.974429\n",
       "3  5.513148  4.474359\n",
       "4  7.194690  8.938402"
      ]
     },
     "execution_count": 2,
     "metadata": {},
     "output_type": "execute_result"
    }
   ],
   "source": [
    "df.head()"
   ]
  },
  {
   "cell_type": "code",
   "execution_count": 3,
   "metadata": {},
   "outputs": [
    {
     "data": {
      "text/html": [
       "<style type=\"text/css\">\n",
       "</style>\n",
       "<table id=\"T_e78c4\">\n",
       "  <thead>\n",
       "    <tr>\n",
       "      <th class=\"blank level0\" >&nbsp;</th>\n",
       "      <th id=\"T_e78c4_level0_col0\" class=\"col_heading level0 col0\" >p1</th>\n",
       "      <th id=\"T_e78c4_level0_col1\" class=\"col_heading level0 col1\" >p2</th>\n",
       "      <th id=\"T_e78c4_level0_col2\" class=\"col_heading level0 col2\" >média</th>\n",
       "      <th id=\"T_e78c4_level0_col3\" class=\"col_heading level0 col3\" >diferença</th>\n",
       "    </tr>\n",
       "  </thead>\n",
       "  <tbody>\n",
       "    <tr>\n",
       "      <th id=\"T_e78c4_level0_row0\" class=\"row_heading level0 row0\" >0</th>\n",
       "      <td id=\"T_e78c4_row0_col0\" class=\"data row0 col0\" >6,96</td>\n",
       "      <td id=\"T_e78c4_row0_col1\" class=\"data row0 col1\" >7,94</td>\n",
       "      <td id=\"T_e78c4_row0_col2\" class=\"data row0 col2\" >7,45</td>\n",
       "      <td id=\"T_e78c4_row0_col3\" class=\"data row0 col3\" >0,98</td>\n",
       "    </tr>\n",
       "    <tr>\n",
       "      <th id=\"T_e78c4_level0_row1\" class=\"row_heading level0 row1\" >1</th>\n",
       "      <td id=\"T_e78c4_row1_col0\" class=\"data row1 col0\" >2,86</td>\n",
       "      <td id=\"T_e78c4_row1_col1\" class=\"data row1 col1\" >5,10</td>\n",
       "      <td id=\"T_e78c4_row1_col2\" class=\"data row1 col2\" >3,98</td>\n",
       "      <td id=\"T_e78c4_row1_col3\" class=\"data row1 col3\" >2,24</td>\n",
       "    </tr>\n",
       "    <tr>\n",
       "      <th id=\"T_e78c4_level0_row2\" class=\"row_heading level0 row2\" >2</th>\n",
       "      <td id=\"T_e78c4_row2_col0\" class=\"data row2 col0\" >2,27</td>\n",
       "      <td id=\"T_e78c4_row2_col1\" class=\"data row2 col1\" >0,97</td>\n",
       "      <td id=\"T_e78c4_row2_col2\" class=\"data row2 col2\" >1,62</td>\n",
       "      <td id=\"T_e78c4_row2_col3\" class=\"data row2 col3\" >-1,29</td>\n",
       "    </tr>\n",
       "    <tr>\n",
       "      <th id=\"T_e78c4_level0_row3\" class=\"row_heading level0 row3\" >3</th>\n",
       "      <td id=\"T_e78c4_row3_col0\" class=\"data row3 col0\" >5,51</td>\n",
       "      <td id=\"T_e78c4_row3_col1\" class=\"data row3 col1\" >4,47</td>\n",
       "      <td id=\"T_e78c4_row3_col2\" class=\"data row3 col2\" >4,99</td>\n",
       "      <td id=\"T_e78c4_row3_col3\" class=\"data row3 col3\" >-1,04</td>\n",
       "    </tr>\n",
       "    <tr>\n",
       "      <th id=\"T_e78c4_level0_row4\" class=\"row_heading level0 row4\" >4</th>\n",
       "      <td id=\"T_e78c4_row4_col0\" class=\"data row4 col0\" >7,19</td>\n",
       "      <td id=\"T_e78c4_row4_col1\" class=\"data row4 col1\" >8,94</td>\n",
       "      <td id=\"T_e78c4_row4_col2\" class=\"data row4 col2\" >8,07</td>\n",
       "      <td id=\"T_e78c4_row4_col3\" class=\"data row4 col3\" >1,74</td>\n",
       "    </tr>\n",
       "  </tbody>\n",
       "</table>\n"
      ],
      "text/plain": [
       "<pandas.io.formats.style.Styler at 0x2aa5f55c650>"
      ]
     },
     "execution_count": 3,
     "metadata": {},
     "output_type": "execute_result"
    }
   ],
   "source": [
    "# a) Cálculo da média e diferença dos valores\n",
    "df['média'] = df.mean(axis = 1)\n",
    "df['diferença'] = df.p2 - df.p1\n",
    "df.head().style.format(precision=2, decimal = ',')"
   ]
  },
  {
   "cell_type": "code",
   "execution_count": 4,
   "metadata": {},
   "outputs": [
    {
     "name": "stdout",
     "output_type": "stream",
     "text": [
      "Correlação entre p1 e p2: 0.90\n"
     ]
    }
   ],
   "source": [
    "# b) Correlação entre p1 e p2\n",
    "corr1 = df['p1'].corr(df['p2'])\n",
    "print(f\"Correlação entre p1 e p2: {corr1:.2f}\")"
   ]
  },
  {
   "cell_type": "code",
   "execution_count": 5,
   "metadata": {},
   "outputs": [
    {
     "name": "stdout",
     "output_type": "stream",
     "text": [
      "Correlação entre média e diferença: 0.13\n"
     ]
    }
   ],
   "source": [
    "# c) Correlação entre média e diferença\n",
    "corr2 = df['média'].corr(df['diferença'])\n",
    "print(f\"Correlação entre média e diferença: {corr2:.2f}\")"
   ]
  },
  {
   "cell_type": "markdown",
   "metadata": {},
   "source": [
    "A relação entre os valores de p1 e p2 é muito maior que a relação entre a média e a diferença destes valores (0,90 >>> 0,13). Isso indica que que as variáveis iniciasi tem uma forte correlação, praticamente linear, o que pode indicar que elas são influênciadas por uma mesma característica. Enquanto a relação entre a média e a diferença é baixa devido a não interferência entre elas, capturando características diferentes das variáveis iniciais. A média calcula o nível geral das variáveis p1 e p2, e a diferença calcula a discrepância entre elas. A baixa correlação sugere que as variáveis derivadas podem ser usadas para análise, pois não são redundantes."
   ]
  },
  {
   "cell_type": "markdown",
   "metadata": {},
   "source": [
    "## 2. Soma e diferença\n",
    "\n",
    "Realize agora uma transformação semelhante, mas que ao invés da média, dê a soma da **p1** e **p2**. Construa o gráfico e conclua que diferenças visuais você observa."
   ]
  },
  {
   "cell_type": "code",
   "execution_count": 6,
   "metadata": {},
   "outputs": [
    {
     "data": {
      "text/html": [
       "<style type=\"text/css\">\n",
       "</style>\n",
       "<table id=\"T_62189\">\n",
       "  <thead>\n",
       "    <tr>\n",
       "      <th class=\"blank level0\" >&nbsp;</th>\n",
       "      <th id=\"T_62189_level0_col0\" class=\"col_heading level0 col0\" >p1</th>\n",
       "      <th id=\"T_62189_level0_col1\" class=\"col_heading level0 col1\" >p2</th>\n",
       "      <th id=\"T_62189_level0_col2\" class=\"col_heading level0 col2\" >média</th>\n",
       "      <th id=\"T_62189_level0_col3\" class=\"col_heading level0 col3\" >diferença</th>\n",
       "      <th id=\"T_62189_level0_col4\" class=\"col_heading level0 col4\" >soma</th>\n",
       "    </tr>\n",
       "  </thead>\n",
       "  <tbody>\n",
       "    <tr>\n",
       "      <th id=\"T_62189_level0_row0\" class=\"row_heading level0 row0\" >0</th>\n",
       "      <td id=\"T_62189_row0_col0\" class=\"data row0 col0\" >6,96</td>\n",
       "      <td id=\"T_62189_row0_col1\" class=\"data row0 col1\" >7,94</td>\n",
       "      <td id=\"T_62189_row0_col2\" class=\"data row0 col2\" >7,45</td>\n",
       "      <td id=\"T_62189_row0_col3\" class=\"data row0 col3\" >0,98</td>\n",
       "      <td id=\"T_62189_row0_col4\" class=\"data row0 col4\" >14,91</td>\n",
       "    </tr>\n",
       "    <tr>\n",
       "      <th id=\"T_62189_level0_row1\" class=\"row_heading level0 row1\" >1</th>\n",
       "      <td id=\"T_62189_row1_col0\" class=\"data row1 col0\" >2,86</td>\n",
       "      <td id=\"T_62189_row1_col1\" class=\"data row1 col1\" >5,10</td>\n",
       "      <td id=\"T_62189_row1_col2\" class=\"data row1 col2\" >3,98</td>\n",
       "      <td id=\"T_62189_row1_col3\" class=\"data row1 col3\" >2,24</td>\n",
       "      <td id=\"T_62189_row1_col4\" class=\"data row1 col4\" >7,96</td>\n",
       "    </tr>\n",
       "    <tr>\n",
       "      <th id=\"T_62189_level0_row2\" class=\"row_heading level0 row2\" >2</th>\n",
       "      <td id=\"T_62189_row2_col0\" class=\"data row2 col0\" >2,27</td>\n",
       "      <td id=\"T_62189_row2_col1\" class=\"data row2 col1\" >0,97</td>\n",
       "      <td id=\"T_62189_row2_col2\" class=\"data row2 col2\" >1,62</td>\n",
       "      <td id=\"T_62189_row2_col3\" class=\"data row2 col3\" >-1,29</td>\n",
       "      <td id=\"T_62189_row2_col4\" class=\"data row2 col4\" >3,24</td>\n",
       "    </tr>\n",
       "    <tr>\n",
       "      <th id=\"T_62189_level0_row3\" class=\"row_heading level0 row3\" >3</th>\n",
       "      <td id=\"T_62189_row3_col0\" class=\"data row3 col0\" >5,51</td>\n",
       "      <td id=\"T_62189_row3_col1\" class=\"data row3 col1\" >4,47</td>\n",
       "      <td id=\"T_62189_row3_col2\" class=\"data row3 col2\" >4,99</td>\n",
       "      <td id=\"T_62189_row3_col3\" class=\"data row3 col3\" >-1,04</td>\n",
       "      <td id=\"T_62189_row3_col4\" class=\"data row3 col4\" >9,99</td>\n",
       "    </tr>\n",
       "    <tr>\n",
       "      <th id=\"T_62189_level0_row4\" class=\"row_heading level0 row4\" >4</th>\n",
       "      <td id=\"T_62189_row4_col0\" class=\"data row4 col0\" >7,19</td>\n",
       "      <td id=\"T_62189_row4_col1\" class=\"data row4 col1\" >8,94</td>\n",
       "      <td id=\"T_62189_row4_col2\" class=\"data row4 col2\" >8,07</td>\n",
       "      <td id=\"T_62189_row4_col3\" class=\"data row4 col3\" >1,74</td>\n",
       "      <td id=\"T_62189_row4_col4\" class=\"data row4 col4\" >16,13</td>\n",
       "    </tr>\n",
       "  </tbody>\n",
       "</table>\n"
      ],
      "text/plain": [
       "<pandas.io.formats.style.Styler at 0x2aa5d144fb0>"
      ]
     },
     "execution_count": 6,
     "metadata": {},
     "output_type": "execute_result"
    }
   ],
   "source": [
    "df['soma'] = df.p2 + df.p1\n",
    "df.head().style.format(precision=2, decimal = ',')"
   ]
  },
  {
   "cell_type": "code",
   "execution_count": 7,
   "metadata": {},
   "outputs": [
    {
     "name": "stdout",
     "output_type": "stream",
     "text": [
      "Correlação entre média e diferença: 0.13\n"
     ]
    }
   ],
   "source": [
    "# Correlação entre média e diferença\n",
    "corr3 = df['soma'].corr(df['diferença'])\n",
    "print(f\"Correlação entre média e diferença: {corr3:.2f}\")"
   ]
  },
  {
   "cell_type": "code",
   "execution_count": 10,
   "metadata": {},
   "outputs": [],
   "source": [
    "def translin_v2(m):\n",
    "    fig = plt.figure(figsize=(10, 10))\n",
    "    ax = fig.add_subplot(1,1,1)\n",
    "\n",
    "    xmin = -df.p1.min()*1.5\n",
    "    xmax = df.p1.max()*1.5\n",
    "    ymin = -df.p1.min()*1.5\n",
    "    ymax = df.p2.max()*1.1\n",
    "\n",
    "    ax.axis('equal')\n",
    "    ax.set_aspect('equal', 'box')\n",
    "    ax.set(xlim=(xmin, xmax), ylim=(ymin, ymax))\n",
    "\n",
    "    ax.axvline(0, linewidth=.5, linestyle='--')\n",
    "    ax.axhline(0, linewidth=.5, linestyle='--')\n",
    "    x = np.linspace(xmin, xmax, 100)\n",
    "    y = x\n",
    "    ax.plot(x, y, linewidth=.5, linestyle='--', color = 'r')\n",
    "    plt.text(11, 10.5, r'$y = x$')\n",
    "\n",
    "    plt.scatter(x = df.p1, y=df.p2, label = 'originais', c = 'g')\n",
    "    plt.scatter(x = df['média'], y=df['diferença'], label = 'média x diferença', c = 'm')\n",
    "    plt.scatter(x = df['soma'], y=df['diferença'], label = 'soma x diferença', c = 'c')\n",
    "\n",
    "    ax.legend(loc='upper left')"
   ]
  },
  {
   "cell_type": "code",
   "execution_count": 11,
   "metadata": {},
   "outputs": [
    {
     "data": {
      "image/png": "[encoded data removed]",
      "text/plain": [
       "<Figure size 1000x1000 with 1 Axes>"
      ]
     },
     "metadata": {},
     "output_type": "display_data"
    }
   ],
   "source": [
    "translin_v2(df)"
   ]
  },
  {
   "cell_type": "markdown",
   "metadata": {},
   "source": [
    "Observando o gráfico apresentado nota-se que entre p1 e p2 há uma forte relação crescente e praticamente linear, convergindo para a reta y = x plotada. \n",
    "Já sobre as relações entre os gráficos de relação entre as variáveis calculadas notamos um desenho semelhante entre elas, estando ambas muito próximas da reta y = 0. Essa caracterítica já era esperada uma vez que ambas as correlações calculadas anteriormente tem os mesmos valores 0.13."
   ]
  }
 ],
 "metadata": {
  "kernelspec": {
   "display_name": "Python 3 (ipykernel)",
   "language": "python",
   "name": "python3"
  },
  "language_info": {
   "codemirror_mode": {
    "name": "ipython",
    "version": 3
   },
   "file_extension": ".py",
   "mimetype": "text/x-python",
   "name": "python",
   "nbconvert_exporter": "python",
   "pygments_lexer": "ipython3",
   "version": "3.12.7"
  },
  "toc": {
   "base_numbering": 1,
   "nav_menu": {},
   "number_sections": false,
   "sideBar": true,
   "skip_h1_title": false,
   "title_cell": "Índice",
   "title_sidebar": "Conteúdo",
   "toc_cell": false,
   "toc_position": {
    "height": "calc(100% - 180px)",
    "left": "10px",
    "top": "150px",
    "width": "257.6px"
   },
   "toc_section_display": true,
   "toc_window_display": false
  },
  "varInspector": {
   "cols": {
    "lenName": 16,
    "lenType": 16,
    "lenVar": 40
   },
   "kernels_config": {
    "python": {
     "delete_cmd_postfix": "",
     "delete_cmd_prefix": "del ",
     "library": "var_list.py",
     "varRefreshCmd": "print(var_dic_list())"
    },
    "r": {
     "delete_cmd_postfix": ") ",
     "delete_cmd_prefix": "rm(",
     "library": "var_list.r",
     "varRefreshCmd": "cat(var_dic_list()) "
    }
   },
   "types_to_exclude": [
    "module",
    "function",
    "builtin_function_or_method",
    "instance",
    "_Feature"
   ],
   "window_display": false
  }
 },
 "nbformat": 4,
 "nbformat_minor": 4
}
