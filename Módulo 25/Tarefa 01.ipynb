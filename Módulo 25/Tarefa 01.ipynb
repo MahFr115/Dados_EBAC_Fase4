{
 "cells": [
  {
   "cell_type": "markdown",
   "metadata": {},
   "source": [
    "# Cálculo - Tarefa 01\n",
    "\n",
    "1. Marque quais desses métodos/algoritmos muito populares em ciência de dados são baseados no uso de derivada:\n",
    "\n",
    "    1. Método Mínimos Quadrados\n",
    "    2. Gradiente descendente\n",
    "    3. Newton Raphson\n",
    "    4. CART (Árvore de decisão)"
   ]
  },
  {
   "cell_type": "markdown",
   "metadata": {},
   "source": [
    "- <font color = \"green\">Método Mínimos Quadrados</font>: Para obter o mínimo devemos obter a derivada parcial igual a 0 da distância entre o cálculo de $f(x_0)$ e $f(x_1)$\n",
    "- <font color = \"green\">Gradiente Descendente</font>: Devemos calcular os mínimos locais e global de uma função com caracteríticas de escalas semelhantes. Ou seja, a derivada igual a 0 da funçaõ.\n",
    "- <font color = \"green\">Newton Raphson</font>: Devemos calcular a o valor absoluto da derivada da função dada.\n",
    "- <font color = \"red\">CART (Árvore de Decisão)</font>: Construimos árvores de decisão dividindo o espaço de entrada com base em critérios como ganho de informação, não utilizando derivada para tal."
   ]
  },
  {
   "cell_type": "markdown",
   "metadata": {},
   "source": [
    "2. Dada uma base de dados com uma variável resposta $y$ e um conjunto de variáveis explicativas. Considere uma estrutura de um modelo de regressão. Explique com suas palavras por que não é possível obter parâmetros que forneçam um erro quadrático médio (EQM) menor que o obtido com estimadores de mínimos quadrados."
   ]
  },
  {
   "cell_type": "markdown",
   "metadata": {},
   "source": [
    "Para a <strong>regressão linear</strong>, os parâmetros de <strong>mínimos quadrados</strong> são obtidos resolvendo as equações normais, que resultam de igualar a zero as derivadas parciais da SSE em relação aos parâmetros $𝛽$. Essa solução é única e globalmente ótima, garantindo o menor valor possível para a SSE (e o EQM) dentro do espaço de modelos lineares."
   ]
  }
 ],
 "metadata": {
  "kernelspec": {
   "display_name": "Python 3 (ipykernel)",
   "language": "python",
   "name": "python3"
  },
  "language_info": {
   "codemirror_mode": {
    "name": "ipython",
    "version": 3
   },
   "file_extension": ".py",
   "mimetype": "text/x-python",
   "name": "python",
   "nbconvert_exporter": "python",
   "pygments_lexer": "ipython3",
   "version": "3.12.7"
  },
  "toc": {
   "base_numbering": 1,
   "nav_menu": {},
   "number_sections": true,
   "sideBar": true,
   "skip_h1_title": true,
   "title_cell": "Índice",
   "title_sidebar": "Conteúdo",
   "toc_cell": false,
   "toc_position": {},
   "toc_section_display": true,
   "toc_window_display": false
  },
  "varInspector": {
   "cols": {
    "lenName": 16,
    "lenType": 16,
    "lenVar": 40
   },
   "kernels_config": {
    "python": {
     "delete_cmd_postfix": "",
     "delete_cmd_prefix": "del ",
     "library": "var_list.py",
     "varRefreshCmd": "print(var_dic_list())"
    },
    "r": {
     "delete_cmd_postfix": ") ",
     "delete_cmd_prefix": "rm(",
     "library": "var_list.r",
     "varRefreshCmd": "cat(var_dic_list()) "
    }
   },
   "types_to_exclude": [
    "module",
    "function",
    "builtin_function_or_method",
    "instance",
    "_Feature"
   ],
   "window_display": false
  }
 },
 "nbformat": 4,
 "nbformat_minor": 4
}
